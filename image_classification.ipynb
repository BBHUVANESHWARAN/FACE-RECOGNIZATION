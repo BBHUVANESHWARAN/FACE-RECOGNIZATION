{
 "cells": [
  {
   "cell_type": "code",
   "execution_count": 1,
   "metadata": {},
   "outputs": [
    {
     "name": "stdout",
     "output_type": "stream",
     "text": [
      "Loading Face Detector...\n",
      "Loading Face Recognizer...\n"
     ]
    },
    {
     "data": {
      "text/plain": [
       "True"
      ]
     },
     "execution_count": 1,
     "metadata": {},
     "output_type": "execute_result"
    }
   ],
   "source": [
    "# import libraries\n",
    "import os\n",
    "import cv2\n",
    "import imutils\n",
    "import time\n",
    "import pickle\n",
    "import numpy as np\n",
    "from imutils.video import FPS\n",
    "from imutils.video import VideoStream\n",
    "\n",
    "# load serialized face detector\n",
    "print(\"Loading Face Detector...\")\n",
    "protoPath = \"face_detection_model/deploy.prototxt\"\n",
    "modelPath = \"face_detection_model/res10_300x300_ssd_iter_140000.caffemodel\"\n",
    "detector = cv2.dnn.readNetFromCaffe(protoPath, modelPath)\n",
    "\n",
    "# load serialized face embedding model\n",
    "print(\"Loading Face Recognizer...\")\n",
    "embedder = cv2.dnn.readNetFromTorch(\"openface_nn4.small2.v1.t7\")\n",
    "\n",
    "# load the actual face recognition model along with the label encoder\n",
    "recognizer = pickle.loads(open(\"output/recognizer.pickle\", \"rb\").read())\n",
    "le = pickle.loads(open(\"output/le.pickle\", \"rb\").read())\n",
    "\n",
    "frame=cv2.imread('1.png')\n",
    "\n",
    "# resize the frame to have a width of 600 pixels (while maintaining the aspect ratio), and then grab the image dimensions\n",
    "frame = imutils.resize(frame, width=600)\n",
    "(h, w) = frame.shape[:2]\n",
    "\n",
    "# construct a blob from the image\n",
    "imageBlob = cv2.dnn.blobFromImage(\n",
    "    cv2.resize(frame, (300, 300)), 1.0, (300, 300),\n",
    "    (104.0, 177.0, 123.0), swapRB=False, crop=False)\n",
    "\n",
    "# apply OpenCV's deep learning-based face detector to localize faces in the input image\n",
    "detector.setInput(imageBlob)\n",
    "detections = detector.forward()\n",
    "\n",
    "# loop over the detections\n",
    "for i in range(0, detections.shape[2]):\n",
    "    # extract the confidence (i.e., probability) associated with the prediction\n",
    "    confidence = detections[0, 0, i, 2]\n",
    "\n",
    "    # filter out weak detections\n",
    "    if confidence > 0.5:\n",
    "        # compute the (x, y)-coordinates of the bounding box for the face\n",
    "        box = detections[0, 0, i, 3:7] * np.array([w, h, w, h])\n",
    "        (startX, startY, endX, endY) = box.astype(\"int\")\n",
    "\n",
    "        # extract the face ROI\n",
    "        face = frame[startY:endY, startX:endX]\n",
    "        (fH, fW) = face.shape[:2]\n",
    "\n",
    "        # ensure the face width and height are sufficiently large\n",
    "        if fW < 20 or fH < 20:\n",
    "            continue\n",
    "\n",
    "        # construct a blob for the face ROI, then pass the blob through our face embedding model to obtain the 128-d quantification of the face\n",
    "        faceBlob = cv2.dnn.blobFromImage(face, 1.0 / 255,\n",
    "            (96, 96), (0, 0, 0), swapRB=True, crop=False)\n",
    "        embedder.setInput(faceBlob)\n",
    "        vec = embedder.forward()\n",
    "\n",
    "        # perform classification to recognize the face\n",
    "        preds = recognizer.predict_proba(vec)[0]\n",
    "        j = np.argmax(preds)\n",
    "        proba = preds[j]\n",
    "        name = le.classes_[j]\n",
    "\n",
    "        # draw the bounding box of the face along with the associated probability\n",
    "        text = \"{}: {:.2f}%\".format(name, proba * 100)\n",
    "        y = startY - 10 if startY - 10 > 10 else startY + 10\n",
    "        cv2.rectangle(frame, (startX, startY), (endX, endY),\n",
    "            (0, 0, 255), 2)\n",
    "        cv2.putText(frame, text, (startX, y),\n",
    "            cv2.FONT_HERSHEY_SIMPLEX, 0.45, (0, 0, 255), 2)\n",
    "\n",
    "# show the output frame\n",
    "cv2.imwrite('output.png',frame)\n"
   ]
  },
  {
   "cell_type": "code",
   "execution_count": null,
   "metadata": {},
   "outputs": [],
   "source": []
  }
 ],
 "metadata": {
  "kernelspec": {
   "display_name": "Python 3",
   "language": "python",
   "name": "python3"
  },
  "language_info": {
   "codemirror_mode": {
    "name": "ipython",
    "version": 3
   },
   "file_extension": ".py",
   "mimetype": "text/x-python",
   "name": "python",
   "nbconvert_exporter": "python",
   "pygments_lexer": "ipython3",
   "version": "3.7.1"
  }
 },
 "nbformat": 4,
 "nbformat_minor": 2
}
