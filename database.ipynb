{
 "cells": [
  {
   "cell_type": "code",
   "execution_count": 5,
   "metadata": {},
   "outputs": [],
   "source": [
    "#creating database\n",
    "import cv2, sys, numpy, os\n",
    "haar_file = 'haarcascade_frontalface_default.xml'\n",
    "datasets = 'datasets'  #All the faces data will be present this folder\n",
    "sub_data = 'ananth'     #These are sub data sets of folder, for my faces I've used my name\n",
    "\n",
    "path = os.path.join(datasets, sub_data)\n",
    "if not os.path.isdir(path):\n",
    "    os.mkdir(path)\n",
    "(width, height) = (130, 100)    # defining the size of images \n",
    "\n",
    "\n",
    "face_cascade = cv2.CascadeClassifier(haar_file)\n",
    "webcam = cv2.VideoCapture(0) #'0' is use for my webcam, if you've any other camera attached use '1' like this\n",
    "\n",
    "# The program loops until it has 30 images of the face.\n",
    "count = 1\n",
    "while count < 31: \n",
    "    (_, im) = webcam.read()\n",
    "    gray = cv2.cvtColor(im, cv2.COLOR_BGR2GRAY)\n",
    "    faces = face_cascade.detectMultiScale(gray, 1.3, 4)\n",
    "    for (x,y,w,h) in faces:\n",
    "        cv2.rectangle(im,(x,y),(x+w,y+h),(255,0,0),2)\n",
    "        face = gray[y:y + h, x:x + w]\n",
    "        face_resize = cv2.resize(face, (width, height))\n",
    "        cv2.imwrite('%s/%s.png' % (path,count), face_resize)\n",
    "        count += 1\n",
    "    cv2.imshow('OpenCV', im)\n",
    "    key = cv2.waitKey(10)\n",
    "    if key == 27:\n",
    "        break\n"
   ]
  },
  {
   "cell_type": "code",
   "execution_count": 7,
   "metadata": {},
   "outputs": [
    {
     "name": "stdout",
     "output_type": "stream",
     "text": [
      "Enter Your customer Name:--->>>ananth\n",
      "Enter Your Card Number:-->1994\n"
     ]
    }
   ],
   "source": [
    "#creating database\n",
    "import cv2, sys, numpy, os\n",
    "from pymongo import MongoClient\n",
    "\n",
    "## Database connection:----\n",
    "\n",
    "client = MongoClient()\n",
    "client = MongoClient('localhost', 27017)\n",
    "mydb = client['ATM_System']\n",
    "my_collection = mydb['customer_details']\n",
    "customer_name = input('Enter Your customer Name:--->>>') \n",
    "card_number=int(input('Enter Your Card Number:-->'))\n",
    "\n",
    "user_details_dictionary={'Name':customer_name,'card_number':card_number}\n",
    "insert_operation=my_collection.insert_one(user_details_dictionary)\n",
    "\n",
    "datasets = 'datasets' \n",
    "\n",
    "path = os.path.join(datasets, customer_name)\n",
    "if not os.path.isdir(path):\n",
    "    os.makedirs(path)\n",
    "\n",
    "webcam = cv2.VideoCapture(0)\n",
    "count = 1\n",
    "while count < 31: \n",
    "    (_, im) = webcam.read()\n",
    "    cv2.imwrite('%s/%s.png' % (path,count), im)\n",
    "    count += 1\n",
    "    cv2.imshow('OpenCV', im)\n",
    "    if cv2.waitKey(1) & 0xFF == ord('q'): \n",
    "        brea\n",
    "\n",
    "webcam.release()\n",
    "\n",
    "cv2.destroyAllWindows()"
   ]
  },
  {
   "cell_type": "code",
   "execution_count": 1,
   "metadata": {},
   "outputs": [
    {
     "name": "stdout",
     "output_type": "stream",
     "text": [
      "Enter Your customer Name:--->>>unknown\n"
     ]
    },
    {
     "ename": "NameError",
     "evalue": "name 'os' is not defined",
     "output_type": "error",
     "traceback": [
      "\u001b[1;31m---------------------------------------------------------------------------\u001b[0m",
      "\u001b[1;31mNameError\u001b[0m                                 Traceback (most recent call last)",
      "\u001b[1;32m<ipython-input-1-ccf1e5d82e03>\u001b[0m in \u001b[0;36m<module>\u001b[1;34m\u001b[0m\n\u001b[0;32m      5\u001b[0m \u001b[0mdatasets\u001b[0m \u001b[1;33m=\u001b[0m \u001b[1;34m'datasets'\u001b[0m\u001b[1;33m\u001b[0m\u001b[1;33m\u001b[0m\u001b[0m\n\u001b[0;32m      6\u001b[0m \u001b[1;33m\u001b[0m\u001b[0m\n\u001b[1;32m----> 7\u001b[1;33m \u001b[0mpath\u001b[0m \u001b[1;33m=\u001b[0m \u001b[0mos\u001b[0m\u001b[1;33m.\u001b[0m\u001b[0mpath\u001b[0m\u001b[1;33m.\u001b[0m\u001b[0mjoin\u001b[0m\u001b[1;33m(\u001b[0m\u001b[0mdatasets\u001b[0m\u001b[1;33m,\u001b[0m \u001b[0mcustomer_name\u001b[0m\u001b[1;33m)\u001b[0m\u001b[1;33m\u001b[0m\u001b[1;33m\u001b[0m\u001b[0m\n\u001b[0m\u001b[0;32m      8\u001b[0m \u001b[1;32mif\u001b[0m \u001b[1;32mnot\u001b[0m \u001b[0mos\u001b[0m\u001b[1;33m.\u001b[0m\u001b[0mpath\u001b[0m\u001b[1;33m.\u001b[0m\u001b[0misdir\u001b[0m\u001b[1;33m(\u001b[0m\u001b[0mpath\u001b[0m\u001b[1;33m)\u001b[0m\u001b[1;33m:\u001b[0m\u001b[1;33m\u001b[0m\u001b[1;33m\u001b[0m\u001b[0m\n\u001b[0;32m      9\u001b[0m     \u001b[0mos\u001b[0m\u001b[1;33m.\u001b[0m\u001b[0mmakedirs\u001b[0m\u001b[1;33m(\u001b[0m\u001b[0mpath\u001b[0m\u001b[1;33m)\u001b[0m\u001b[1;33m\u001b[0m\u001b[1;33m\u001b[0m\u001b[0m\n",
      "\u001b[1;31mNameError\u001b[0m: name 'os' is not defined"
     ]
    }
   ],
   "source": [
    "import cv2\n",
    "\n",
    "customer_name = input('Enter Your customer Name:--->>>') \n",
    "\n",
    "datasets = 'datasets' \n",
    "\n",
    "path = os.path.join(datasets, customer_name)\n",
    "if not os.path.isdir(path):\n",
    "    os.makedirs(path)\n",
    "\n",
    "webcam = cv2.VideoCapture(0)\n",
    "count = 1\n",
    "while count < 31: \n",
    "    (_, im) = webcam.read()\n",
    "    cv2.imwrite('%s/%s.png' % (path,count), im)\n",
    "    count += 1\n",
    "    cv2.imshow('OpenCV', im)\n",
    "    if cv2.waitKey(1) & 0xFF == ord('q'): \n",
    "        brea\n",
    "\n",
    "webcam.release()\n",
    "cv2.destroyAllWindows()"
   ]
  },
  {
   "cell_type": "code",
   "execution_count": null,
   "metadata": {},
   "outputs": [],
   "source": []
  }
 ],
 "metadata": {
  "kernelspec": {
   "display_name": "Python 3",
   "language": "python",
   "name": "python3"
  },
  "language_info": {
   "codemirror_mode": {
    "name": "ipython",
    "version": 3
   },
   "file_extension": ".py",
   "mimetype": "text/x-python",
   "name": "python",
   "nbconvert_exporter": "python",
   "pygments_lexer": "ipython3",
   "version": "3.7.1"
  }
 },
 "nbformat": 4,
 "nbformat_minor": 4
}
